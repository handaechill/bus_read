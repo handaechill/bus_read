{
  "nbformat": 4,
  "nbformat_minor": 0,
  "metadata": {
    "colab": {
      "provenance": [],
      "authorship_tag": "ABX9TyOhSuJYMo+7hNaSM+PyVRKX",
      "include_colab_link": true
    },
    "kernelspec": {
      "name": "python3",
      "display_name": "Python 3"
    },
    "language_info": {
      "name": "python"
    }
  },
  "cells": [
    {
      "cell_type": "markdown",
      "metadata": {
        "id": "view-in-github",
        "colab_type": "text"
      },
      "source": [
        "<a href=\"https://colab.research.google.com/github/handaechill/bus_read/blob/main/Untitled3.ipynb\" target=\"_parent\"><img src=\"https://colab.research.google.com/assets/colab-badge.svg\" alt=\"Open In Colab\"/></a>"
      ]
    },
    {
      "cell_type": "code",
      "execution_count": null,
      "metadata": {
        "id": "CWDxmS0MRqdR"
      },
      "outputs": [],
      "source": []
    },
    {
      "cell_type": "code",
      "execution_count": 1,
      "metadata": {
        "id": "11x5B7xkQPmN",
        "outputId": "5dd9d578-607f-4ea4-9b6d-c0adf64fa8d0",
        "colab": {
          "base_uri": "https://localhost:8080/"
        }
      },
      "outputs": [
        {
          "output_type": "stream",
          "name": "stdout",
          "text": [
            "<OpenAPI_ServiceResponse>\n",
            "\t<cmmMsgHeader>\n",
            "\t\t<errMsg>SERVICE ERROR</errMsg>\n",
            "\t\t<returnAuthMsg>SERVICE_ACCESS_DENIED_ERROR</returnAuthMsg>\n",
            "\t\t<returnReasonCode>20</returnReasonCode>\n",
            "\t</cmmMsgHeader>\n",
            "</OpenAPI_ServiceResponse>\n"
          ]
        }
      ],
      "source": [
        "import requests\n",
        "url='http://apis.data.go.kr/6410000/buslocationservice/getBusLocationList?serviceKey=NX27TU912%2Fk4aFeGKJQINXcHGyNZshD62H2jo4IFcYfIbkpKf%2B4XR3yX6t7YMzVjmlg0gzJyTTKR2K1YN5cLpw%3D%3D&routeId=232000099'\n",
        "#url='http://openapi.gbis.go.kr/ws/rest/buslocationservice?serviceKey=1234567890&routeId=232000099'\n",
        "r = requests.get(url)\n",
        "print(r.text)\n"
      ]
    },
    {
      "cell_type": "code",
      "source": [],
      "metadata": {
        "id": "d2Bu_XTIR_AY"
      },
      "execution_count": 1,
      "outputs": []
    },
    {
      "cell_type": "code",
      "source": [
        "from bs4 import BeautifulSoup\n",
        "\n",
        "soup = BeautifulSoup(r.text, features=\"xml\")"
      ],
      "metadata": {
        "id": "hW7PWVFYP-Ey"
      },
      "execution_count": 2,
      "outputs": []
    },
    {
      "cell_type": "code",
      "source": [],
      "metadata": {
        "id": "xUExHY8cSHPk"
      },
      "execution_count": 2,
      "outputs": []
    },
    {
      "cell_type": "code",
      "source": [
        "soup.find_all('stationId')"
      ],
      "metadata": {
        "id": "RQf5g4DjPma0",
        "outputId": "b8d6525a-b889-4405-f221-e62eb9b489c7",
        "colab": {
          "base_uri": "https://localhost:8080/"
        }
      },
      "execution_count": 3,
      "outputs": [
        {
          "output_type": "execute_result",
          "data": {
            "text/plain": [
              "[]"
            ]
          },
          "metadata": {},
          "execution_count": 3
        }
      ]
    }
  ]
}